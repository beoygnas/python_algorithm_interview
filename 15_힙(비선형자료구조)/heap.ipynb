{
 "cells": [
  {
   "cell_type": "code",
   "execution_count": 3,
   "metadata": {},
   "outputs": [],
   "source": [
    "class BinaryHeap() : \n",
    "    def __init__(self) : \n",
    "        self.items = [None]\n",
    "        \n",
    "    def __len__(self) :\n",
    "        return len(self.items) - 1\n",
    "    \n",
    "    def _percolate_up(self) :\n",
    "        i  = len(self) # 마지막 원소 index \n",
    "        parent = i / 2 # 마지막 원소의 부모 index\n",
    "        while parent > 0 :\n",
    "            if self.items[i] < self.items[parent] : \n",
    "                self.items[i], self.items[parent] = self.items[parent], self.items[i]\n",
    "                i = parent\n",
    "                parent = i // 2\n",
    "    \n",
    "    def insert(self, k) :\n",
    "        self.items.append(k)\n",
    "        self._percolate_up()\n",
    "    \n",
    "    def _percolate_down(self, idx) :\n",
    "        l, r = idx*2, idx*2+1  \n",
    "        smallest = idx\n",
    "        \n",
    "        if l < len(self) and self.items[l] < self.items[smallest] : \n",
    "            smallest = l\n",
    "        \n",
    "        if r < len(self) and self.items[r] < self.items[smallest] : \n",
    "            smallest = r\n",
    "            \n",
    "        if smallest != idx : \n",
    "            self.items[idx], self.items[smallest] = self.items[smallest], self.items[idx]\n",
    "            self._percolate_down(smallest)\n",
    "            \n",
    "    def extract(self) : \n",
    "        smallest = self.items[1]\n",
    "        self.items[1] = self.items[len(self)]\n",
    "        self.items.pop()\n",
    "        self._percolate_down(1)\n",
    "        return smallest\n"
   ]
  }
 ],
 "metadata": {
  "kernelspec": {
   "display_name": "Python 3",
   "language": "python",
   "name": "python3"
  },
  "language_info": {
   "codemirror_mode": {
    "name": "ipython",
    "version": 3
   },
   "file_extension": ".py",
   "mimetype": "text/x-python",
   "name": "python",
   "nbconvert_exporter": "python",
   "pygments_lexer": "ipython3",
   "version": "3.9.6"
  },
  "orig_nbformat": 4
 },
 "nbformat": 4,
 "nbformat_minor": 2
}
