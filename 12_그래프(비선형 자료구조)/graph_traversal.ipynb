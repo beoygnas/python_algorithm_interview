{
 "cells": [
  {
   "cell_type": "code",
   "execution_count": 32,
   "metadata": {},
   "outputs": [],
   "source": [
    "graph = {\n",
    "    1 : [2,3,4],\n",
    "    2 : [5],\n",
    "    3 : [5],\n",
    "    4 : [],\n",
    "    5 : [6,7],\n",
    "    6 : [],\n",
    "    7 : [3]\n",
    "}"
   ]
  },
  {
   "cell_type": "code",
   "execution_count": 33,
   "metadata": {},
   "outputs": [
    {
     "name": "stdout",
     "output_type": "stream",
     "text": [
      "[1, 2, 5, 6, 7, 3, 4]\n"
     ]
    }
   ],
   "source": [
    "def recursive_dfs(v, discovered=[]) :\n",
    "    discovered.append(v)\n",
    "    for w in graph[v] :\n",
    "        if w not in discovered :\n",
    "            discovered = recursive_dfs(w, discovered)\n",
    "    return discovered\n",
    "\n",
    "print(recursive_dfs(1, [])) # 재귀 실행 순서"
   ]
  },
  {
   "cell_type": "code",
   "execution_count": 34,
   "metadata": {},
   "outputs": [
    {
     "data": {
      "text/plain": [
       "[1, 4, 3, 5, 7, 6, 2]"
      ]
     },
     "execution_count": 34,
     "metadata": {},
     "output_type": "execute_result"
    }
   ],
   "source": [
    "# stack에서 pop을 할 떄 visit check\n",
    "\n",
    "def stack_dfs(v) :\n",
    "        \n",
    "    stack, discovered = [v], []\n",
    "    while stack : \n",
    "        v = stack.pop()\n",
    "        if v not in discovered : \n",
    "            discovered.append(v)\n",
    "            for w in graph[v] :\n",
    "                if w not in discovered : \n",
    "                    stack.append(w)\n",
    "        \n",
    "    return discovered\n",
    "\n",
    "stack_dfs(1)"
   ]
  },
  {
   "cell_type": "code",
   "execution_count": 38,
   "metadata": {},
   "outputs": [
    {
     "data": {
      "text/plain": [
       "[1, 2, 3, 4, 5, 6, 7]"
      ]
     },
     "execution_count": 38,
     "metadata": {},
     "output_type": "execute_result"
    }
   ],
   "source": [
    "# queue에 push 할 때 visit check\n",
    "\n",
    "def queue_bfs(v) :     \n",
    "    queue, discovered = collections.deque([v]), [v]\n",
    "    while queue :\n",
    "        v = queue.popleft()\n",
    "        for w in graph[v] :\n",
    "            if w not in discovered : \n",
    "                queue.append(w)\n",
    "                discovered.append(w)\n",
    "    \n",
    "    return discovered\n",
    "\n",
    "queue_bfs(1)"
   ]
  }
 ],
 "metadata": {
  "kernelspec": {
   "display_name": "Python 3",
   "language": "python",
   "name": "python3"
  },
  "language_info": {
   "codemirror_mode": {
    "name": "ipython",
    "version": 3
   },
   "file_extension": ".py",
   "mimetype": "text/x-python",
   "name": "python",
   "nbconvert_exporter": "python",
   "pygments_lexer": "ipython3",
   "version": "3.10.7"
  }
 },
 "nbformat": 4,
 "nbformat_minor": 2
}
