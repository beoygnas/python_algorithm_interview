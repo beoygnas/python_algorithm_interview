{
 "cells": [
  {
   "cell_type": "code",
   "execution_count": 32,
   "metadata": {},
   "outputs": [],
   "source": [
    "class ListNode:\n",
    "    def __init__(self, val=0, next=None):\n",
    "        self.val = val\n",
    "        self.next = next"
   ]
  },
  {
   "cell_type": "code",
   "execution_count": 39,
   "metadata": {},
   "outputs": [
    {
     "name": "stdout",
     "output_type": "stream",
     "text": [
      "2\n",
      "None\n",
      "1\n",
      "None\n",
      "4408325600\n",
      "4408323632\n",
      "4343313928\n"
     ]
    }
   ],
   "source": [
    "rev = None\n",
    "tmp_node = ListNode(1, None)\n",
    "slow = ListNode(2, tmp_node)\n",
    "\n",
    "# 1. 다중할당의 경우 : 트랜잭션으로 처리를 하기 때문에, 작업이 동시에 발생. 같은 객체를 참조하지 않는다.\n",
    "rev, rev.next, slow = slow, rev, slow.next\n",
    "print(rev.val)\n",
    "print(rev.next)\n",
    "print(slow.val)\n",
    "print(slow.next)\n",
    "print(id(rev))\n",
    "print(id(slow))\n",
    "print(id(rev.next))\n",
    "# rev : 2 -> None (원래 None에서 slow를 쫒아감)\n",
    "# slow : 1 -> None (원래 2 -> 1 에서 한칸 더감)\n",
    "# rev와 slow의 id 자체가 다름. rev에 다른 객체를 할당하게됨."
   ]
  },
  {
   "cell_type": "code",
   "execution_count": 38,
   "metadata": {},
   "outputs": [
    {
     "name": "stdout",
     "output_type": "stream",
     "text": [
      "2\n",
      "None\n",
      "2\n",
      "None\n",
      "4408577664\n",
      "4408577664\n",
      "4343313928\n"
     ]
    }
   ],
   "source": [
    "rev = None\n",
    "tmp_node = ListNode(1, None)\n",
    "slow = ListNode(2, tmp_node)\n",
    "\n",
    "rev, rev.next = slow, rev\n",
    "print(rev.val)\n",
    "print(rev.next)\n",
    "print(slow.val)\n",
    "print(slow.next)\n",
    "print(id(rev))\n",
    "print(id(slow))\n",
    "print(id(rev.next))\n",
    "\n",
    "# rev = slow에서, rev와 slow의 id가 같아 같은 객체를 참조함. \n",
    "# rev.next = rev 에서, 그 객체의 next가 바뀜."
   ]
  },
  {
   "cell_type": "code",
   "execution_count": 37,
   "metadata": {},
   "outputs": [
    {
     "name": "stdout",
     "output_type": "stream",
     "text": [
      "2\n",
      "<__main__.ListNode object at 0x106e50fa0>\n",
      "1\n",
      "None\n",
      "4410642336\n",
      "4410639648\n",
      "4410642336\n"
     ]
    }
   ],
   "source": [
    "rev = None\n",
    "tmp_node = ListNode(1, None)\n",
    "slow = ListNode(2, tmp_node)\n",
    "\n",
    "rev, slow = slow, slow.next\n",
    "rev.next = rev # 동일한 참조가 되어버림!!\n",
    "\n",
    "print(rev.val)\n",
    "print(rev.next)\n",
    "print(slow.val)\n",
    "print(slow.next)\n",
    "print(id(rev))\n",
    "print(id(slow))\n",
    "print(id(rev.next))\n",
    "\n",
    "# rev = slow에서, rev와 slow의 id가 같아 같은 객체를 참조함. \n",
    "# rev.next = rev 에서, 그 객체의 next가 바뀜."
   ]
  },
  {
   "cell_type": "code",
   "execution_count": null,
   "metadata": {},
   "outputs": [],
   "source": []
  }
 ],
 "metadata": {
  "kernelspec": {
   "display_name": "Python 3",
   "language": "python",
   "name": "python3"
  },
  "language_info": {
   "codemirror_mode": {
    "name": "ipython",
    "version": 3
   },
   "file_extension": ".py",
   "mimetype": "text/x-python",
   "name": "python",
   "nbconvert_exporter": "python",
   "pygments_lexer": "ipython3",
   "version": "3.10.7"
  }
 },
 "nbformat": 4,
 "nbformat_minor": 2
}
