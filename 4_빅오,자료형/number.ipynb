{
 "cells": [
  {
   "cell_type": "code",
   "execution_count": 3,
   "metadata": {},
   "outputs": [
    {
     "name": "stdout",
     "output_type": "stream",
     "text": [
      "True\n",
      "True\n",
      "False\n"
     ]
    }
   ],
   "source": [
    "# bool은 1과 0으로 맵핑이 가능함. (int 자료형임)\n",
    "\n",
    "print(True == 1)\n",
    "print(False == 0)\n",
    "print(False == 1)"
   ]
  },
  {
   "cell_type": "code",
   "execution_count": 4,
   "metadata": {},
   "outputs": [
    {
     "name": "stdout",
     "output_type": "stream",
     "text": [
      "2.0 24\n",
      "32 28\n",
      "536870912 28\n",
      "1073741824 32\n",
      "576460752303423488 32\n",
      "1152921504606846976 36\n",
      "132\n"
     ]
    }
   ],
   "source": [
    "# python에는 정수 자료형의 크기 제한이 없다.\n",
    "# 임의 정밀도라는 방식으로 정수 자료형을 취급 -> 10진수를 2진수로 변환하고, 2진수의 배열처럼 저장.\n",
    "# 기본 28 bit (2^28 까지) 표현하지만, 커질 경우 추가로 4bit씩 추가할당.\n",
    "\n",
    "from sys import getsizeof\n",
    "\n",
    "a = 2.0\n",
    "print(a, getsizeof(a))\n",
    "a = 2**5\n",
    "print(a, getsizeof(a)) # 28 bit로 표현이 가능\n",
    "a = 2**29\n",
    "print(a, getsizeof(a))\n",
    "a = 2**30\n",
    "print(a, getsizeof(a))\n",
    "a = 2**59\n",
    "print(a, getsizeof(a))\n",
    "a = 2**60\n",
    "print(a, getsizeof(a))\n",
    "\n",
    "a = 2 ** 800\n",
    "print(getsizeof(a)) #\n",
    "\n",
    "\n"
   ]
  },
  {
   "cell_type": "code",
   "execution_count": null,
   "metadata": {},
   "outputs": [],
   "source": []
  }
 ],
 "metadata": {
  "kernelspec": {
   "display_name": "Python 3",
   "language": "python",
   "name": "python3"
  },
  "language_info": {
   "codemirror_mode": {
    "name": "ipython",
    "version": 3
   },
   "file_extension": ".py",
   "mimetype": "text/x-python",
   "name": "python",
   "nbconvert_exporter": "python",
   "pygments_lexer": "ipython3",
   "version": "3.10.7"
  }
 },
 "nbformat": 4,
 "nbformat_minor": 2
}
