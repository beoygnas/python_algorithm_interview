{
 "cells": [
  {
   "cell_type": "code",
   "execution_count": 3,
   "metadata": {},
   "outputs": [
    {
     "name": "stdout",
     "output_type": "stream",
     "text": [
      "4304273936\n",
      "4304273936\n",
      "4304273936\n",
      "10\n"
     ]
    }
   ],
   "source": [
    "# 실제 변수 a,b의 메모리주소, hash table로 관리함.\n",
    "# CPython api를 이용한 것이고, python에서는 기본적으로 제공하진 않음.\n",
    "\n",
    "a = 10\n",
    "b = a\n",
    "\n",
    "print(id(10))\n",
    "print(id(a))\n",
    "print(id(b))\n",
    "\n",
    "print(a)"
   ]
  },
  {
   "cell_type": "code",
   "execution_count": 10,
   "metadata": {},
   "outputs": [
    {
     "name": "stdout",
     "output_type": "stream",
     "text": [
      "4456097536\n",
      "4456097536\n",
      "[1, 2, 3, 4, 5, 6]\n"
     ]
    }
   ],
   "source": [
    "a = [1,2, 3, 4, 5]\n",
    "b = a\n",
    "print(id(a))\n",
    "print(id(b))\n",
    "\n",
    "a.append(6)\n",
    "print(b)"
   ]
  },
  {
   "cell_type": "code",
   "execution_count": 12,
   "metadata": {},
   "outputs": [
    {
     "name": "stdout",
     "output_type": "stream",
     "text": [
      "True\n",
      "True\n",
      "False\n",
      "True\n",
      "False\n"
     ]
    }
   ],
   "source": [
    "import copy\n",
    "## == 연산에 대하여\n",
    "a = [1, 2, 3]\n",
    "print(a == a) # 값 비교, true\n",
    "\n",
    "print(a == list(a)) # 값 비교, a를 copy해서 새로운 객체가 생성\n",
    "print(a is list(a)) # id 비교, 객체가 달라서 주소가 달라짐.\n",
    "print(a == copy.deepcopy(a)) # 값 비교, a를 copy해서 새로운 객체가 생성\n",
    "print(a is copy.deepcopy(a)) # id 비교, 객체가 달라서 주소가 달라짐."
   ]
  },
  {
   "cell_type": "code",
   "execution_count": null,
   "metadata": {},
   "outputs": [],
   "source": []
  }
 ],
 "metadata": {
  "kernelspec": {
   "display_name": "Python 3",
   "language": "python",
   "name": "python3"
  },
  "language_info": {
   "codemirror_mode": {
    "name": "ipython",
    "version": 3
   },
   "file_extension": ".py",
   "mimetype": "text/x-python",
   "name": "python",
   "nbconvert_exporter": "python",
   "pygments_lexer": "ipython3",
   "version": "3.10.7"
  }
 },
 "nbformat": 4,
 "nbformat_minor": 2
}
