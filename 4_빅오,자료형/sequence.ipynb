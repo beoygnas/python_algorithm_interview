{
 "cells": [
  {
   "cell_type": "code",
   "execution_count": 7,
   "metadata": {},
   "outputs": [
    {
     "name": "stdout",
     "output_type": "stream",
     "text": [
      "4335723312\n",
      "4336409584\n",
      "4335723312\n",
      "4407581552\n"
     ]
    },
    {
     "ename": "TypeError",
     "evalue": "'str' object does not support item assignment",
     "output_type": "error",
     "traceback": [
      "\u001b[0;31m---------------------------------------------------------------------------\u001b[0m",
      "\u001b[0;31mTypeError\u001b[0m                                 Traceback (most recent call last)",
      "Cell \u001b[0;32mIn [7], line 13\u001b[0m\n\u001b[1;32m     10\u001b[0m a \u001b[38;5;241m=\u001b[39m a \u001b[38;5;241m+\u001b[39m \u001b[38;5;124m'\u001b[39m\u001b[38;5;124mdef\u001b[39m\u001b[38;5;124m'\u001b[39m\n\u001b[1;32m     11\u001b[0m \u001b[38;5;28mprint\u001b[39m(\u001b[38;5;28mid\u001b[39m(a)) \u001b[38;5;66;03m# 연산을 해도, 새로운 메모리 영역을 점유.\u001b[39;00m\n\u001b[0;32m---> 13\u001b[0m \u001b[43ma\u001b[49m\u001b[43m[\u001b[49m\u001b[38;5;241;43m1\u001b[39;49m\u001b[43m]\u001b[49m \u001b[38;5;241m=\u001b[39m \u001b[38;5;124m'\u001b[39m\u001b[38;5;124md\u001b[39m\u001b[38;5;124m'\u001b[39m\n",
      "\u001b[0;31mTypeError\u001b[0m: 'str' object does not support item assignment"
     ]
    }
   ],
   "source": [
    "# immutable 자료형 : str\n",
    "# 각각의 개체의 id가 다름 -> 수정이 안됨.\n",
    "\n",
    "a = 'abc'\n",
    "print(id(a))\n",
    "a = 'def'\n",
    "print(id(a))\n",
    "a = 'abc'\n",
    "print(id(a)) # 미리 선언한 object 그대로 사용\n",
    "a = a + 'def'\n",
    "print(id(a)) # 연산을 해도, 새로운 메모리 영역을 점유.\n",
    "\n",
    "a[1] = 'd' # error 발생, string object에 직접 접근하여 수정할 수 없음\n"
   ]
  },
  {
   "cell_type": "code",
   "execution_count": 20,
   "metadata": {},
   "outputs": [
    {
     "name": "stdout",
     "output_type": "stream",
     "text": [
      "4422173760\n",
      "4422173760\n",
      "<class 'tuple'>\n",
      "2\n"
     ]
    },
    {
     "ename": "TypeError",
     "evalue": "'tuple' object does not support item assignment",
     "output_type": "error",
     "traceback": [
      "\u001b[0;31m---------------------------------------------------------------------------\u001b[0m",
      "\u001b[0;31mTypeError\u001b[0m                                 Traceback (most recent call last)",
      "Cell \u001b[0;32mIn [20], line 13\u001b[0m\n\u001b[1;32m     11\u001b[0m \u001b[38;5;28mprint\u001b[39m(\u001b[38;5;28mtype\u001b[39m(a))\n\u001b[1;32m     12\u001b[0m \u001b[38;5;28mprint\u001b[39m(a[\u001b[38;5;241m1\u001b[39m]) \u001b[38;5;66;03m# list 처럼 접근이 가능\u001b[39;00m\n\u001b[0;32m---> 13\u001b[0m \u001b[43ma\u001b[49m\u001b[43m[\u001b[49m\u001b[38;5;241;43m1\u001b[39;49m\u001b[43m]\u001b[49m \u001b[38;5;241m=\u001b[39m \u001b[38;5;241m3\u001b[39m    \u001b[38;5;66;03m# error 발생\u001b[39;00m\n",
      "\u001b[0;31mTypeError\u001b[0m: 'tuple' object does not support item assignment"
     ]
    }
   ],
   "source": [
    "# mutable 자료형 list\n",
    "\n",
    "a = [1]\n",
    "print(id(a))\n",
    "a.append(2)\n",
    "print(id(a))\n",
    "\n",
    "# immutable 자료형 tuple\n",
    "\n",
    "a = (1, 2)\n",
    "print(type(a))\n",
    "print(a[1]) # list 처럼 접근이 가능\n",
    "a[1] = 3    # error 발생\n",
    "\n",
    "\n",
    "\n"
   ]
  }
 ],
 "metadata": {
  "kernelspec": {
   "display_name": "Python 3",
   "language": "python",
   "name": "python3"
  },
  "language_info": {
   "codemirror_mode": {
    "name": "ipython",
    "version": 3
   },
   "file_extension": ".py",
   "mimetype": "text/x-python",
   "name": "python",
   "nbconvert_exporter": "python",
   "pygments_lexer": "ipython3",
   "version": "3.10.7"
  }
 },
 "nbformat": 4,
 "nbformat_minor": 2
}
