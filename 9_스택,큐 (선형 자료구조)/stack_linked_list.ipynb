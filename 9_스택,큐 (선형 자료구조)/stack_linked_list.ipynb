{
 "cells": [
  {
   "cell_type": "code",
   "execution_count": null,
   "metadata": {},
   "outputs": [],
   "source": [
    "class Node:\n",
    "    def __init__(self, item, next):\n",
    "        self.item = item\n",
    "        self.next = next\n",
    "\n",
    "class Stack:\n",
    "    def __init__(self, ) :\n",
    "        self.top = None \n",
    "    \n",
    "    def push(self, item) : \n",
    "        self.top = Node(item, self.top)\n",
    "        \n",
    "    def pop(self) :\n",
    "        item = self.top.item\n",
    "        self.top = self.top.next\n",
    "        return item\n",
    "        "
   ]
  }
 ],
 "metadata": {
  "language_info": {
   "name": "python"
  }
 },
 "nbformat": 4,
 "nbformat_minor": 2
}
