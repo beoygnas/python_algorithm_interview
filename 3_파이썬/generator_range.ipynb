{
 "cells": [
  {
   "cell_type": "code",
   "execution_count": 1,
   "metadata": {},
   "outputs": [],
   "source": [
    "def get_natural_number():\n",
    "    n = 0 \n",
    "    while True : \n",
    "        n+=1\n",
    "        yield n "
   ]
  },
  {
   "cell_type": "code",
   "execution_count": 2,
   "metadata": {},
   "outputs": [
    {
     "name": "stdout",
     "output_type": "stream",
     "text": [
      "1\n",
      "2\n",
      "3\n",
      "4\n",
      "5\n",
      "6\n",
      "7\n",
      "8\n",
      "9\n",
      "10\n"
     ]
    }
   ],
   "source": [
    "generator = get_natural_number()\n",
    "for _ in range(10): \n",
    "    print(next(generator))"
   ]
  },
  {
   "cell_type": "code",
   "execution_count": 8,
   "metadata": {},
   "outputs": [
    {
     "name": "stdout",
     "output_type": "stream",
     "text": [
      "1000000\n",
      "1000000\n",
      "True\n",
      "<class 'list'>\n",
      "<class 'range'>\n",
      "8448728\n",
      "48\n",
      "999\n",
      "999\n"
     ]
    }
   ],
   "source": [
    "import sys \n",
    "\n",
    "a = [n for n in range(1000000)]\n",
    "b = range(1000000)\n",
    "\n",
    "## 길이 비교\n",
    "print(len(a))\n",
    "print(len(b))\n",
    "print(len(a) == len(b))\n",
    "\n",
    "## 타입 비교\n",
    "print(type(a)) # 실제로 생성된 값들을 메모리에 저장하는 array\n",
    "print(type(b)) # range = generator, 곧 생성해야 한다는 조건이 달린 data\n",
    "\n",
    "## 메모리 사용량 비교\n",
    "print(sys.getsizeof(a))\n",
    "print(sys.getsizeof(b))\n",
    "\n",
    "print(a[999])\n",
    "print(b[999]) # list와 동일하게 사용이 가능\n"
   ]
  },
  {
   "cell_type": "code",
   "execution_count": null,
   "metadata": {},
   "outputs": [],
   "source": []
  }
 ],
 "metadata": {
  "kernelspec": {
   "display_name": "Python 3",
   "language": "python",
   "name": "python3"
  },
  "language_info": {
   "codemirror_mode": {
    "name": "ipython",
    "version": 3
   },
   "file_extension": ".py",
   "mimetype": "text/x-python",
   "name": "python",
   "nbconvert_exporter": "python",
   "pygments_lexer": "ipython3",
   "version": "3.10.7"
  }
 },
 "nbformat": 4,
 "nbformat_minor": 2
}
